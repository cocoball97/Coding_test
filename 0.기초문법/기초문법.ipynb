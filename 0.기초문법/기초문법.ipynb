{
 "cells": [
  {
   "cell_type": "markdown",
   "metadata": {},
   "source": [
    "### 리스트 컴프리헨션\n",
    "리스트를 초기화하는 방법으로 리스트 컴프리헨션을 이용하여 대괄호 안에 조건문과 반복문을 넣는 방식으로 리스트 초기화"
   ]
  },
  {
   "cell_type": "code",
   "execution_count": 1,
   "metadata": {},
   "outputs": [
    {
     "name": "stdout",
     "output_type": "stream",
     "text": [
      "[1, 3, 5, 7, 9, 11, 13, 15, 17, 19]\n"
     ]
    }
   ],
   "source": [
    "# 0부터 19까지의 수 중에서 홀수만 포함하는 리스트\n",
    "array = [i for i in range(20) if i%2==1]\n",
    "print(array)"
   ]
  },
  {
   "cell_type": "code",
   "execution_count": 2,
   "metadata": {},
   "outputs": [
    {
     "name": "stdout",
     "output_type": "stream",
     "text": [
      "[1, 3, 5, 7, 9, 11, 13, 15, 17, 19]\n"
     ]
    }
   ],
   "source": [
    "# 기존코드\n",
    "array = []\n",
    "for i in range(20):\n",
    "    if i % 2 == 1:\n",
    "        array.append(i)\n",
    "\n",
    "print(array)"
   ]
  },
  {
   "cell_type": "markdown",
   "metadata": {},
   "source": [
    "특히, 코딩테스트에서 2차원 리스트를 초기화할 때, 매우 효과적으로 사용"
   ]
  },
  {
   "cell_type": "code",
   "execution_count": 3,
   "metadata": {},
   "outputs": [
    {
     "name": "stdout",
     "output_type": "stream",
     "text": [
      "[[0, 0, 0, 0], [0, 0, 0, 0], [0, 0, 0, 0]]\n"
     ]
    }
   ],
   "source": [
    "# n * m 크기 2차원 리스트 초기화\n",
    "n = 3\n",
    "m = 4\n",
    "array = [[0]*m for _ in range(n)]\n",
    "print(array)"
   ]
  },
  {
   "cell_type": "markdown",
   "metadata": {},
   "source": [
    "append 는 시간복잡도가 1 이지만 remove, insert 는 시간복잡도가 N 이므로 특정 값의 원소 제거는 아래 방법을 사용하자"
   ]
  },
  {
   "cell_type": "code",
   "execution_count": 5,
   "metadata": {},
   "outputs": [
    {
     "name": "stdout",
     "output_type": "stream",
     "text": [
      "[1, 2, 4]\n"
     ]
    }
   ],
   "source": [
    "# remove를 사용해 2개 원소를 삭제하면 시간 복잡도가 N * N이지만 아래 방법은 N\n",
    "a = [1,2,3,4,5]\n",
    "remove_set = {3,5}\n",
    "\n",
    "# remove_set에 포함되지 않은 값만 저장\n",
    "result = [ i for i in a if i not in remove_set]\n",
    "print(result)"
   ]
  },
  {
   "cell_type": "markdown",
   "metadata": {},
   "source": [
    "### 람다함수"
   ]
  },
  {
   "cell_type": "code",
   "execution_count": 15,
   "metadata": {},
   "outputs": [
    {
     "name": "stdout",
     "output_type": "stream",
     "text": [
      "10\n",
      "10\n"
     ]
    }
   ],
   "source": [
    "# 일반적인 add() 메서드 사용\n",
    "def add(a,b):\n",
    "    return a+b\n",
    "\n",
    "print(add(3,7))\n",
    "\n",
    "# 람다 표현식 \n",
    "print((lambda a,b: a + b)(3,7))"
   ]
  },
  {
   "cell_type": "markdown",
   "metadata": {},
   "source": [
    "내 생각에 람다 + map 함수 와 리스트 컴프리헨션과 유사한듯?"
   ]
  },
  {
   "cell_type": "code",
   "execution_count": 16,
   "metadata": {},
   "outputs": [
    {
     "name": "stdout",
     "output_type": "stream",
     "text": [
      "[1, 4, 9, 16, 25]\n",
      "[1, 4, 9, 16, 25]\n"
     ]
    }
   ],
   "source": [
    "# 람다 함수와 map 함수 예시\n",
    "numbers = [1, 2, 3, 4, 5]\n",
    "squared = list(map(lambda x: x ** 2, numbers))\n",
    "print(squared)  \n",
    "\n",
    "# 리스트 컴프리헨션 예시\n",
    "numbers = [1, 2, 3, 4, 5]\n",
    "squared = [x ** 2 for x in numbers]\n",
    "print(squared)  \n"
   ]
  },
  {
   "cell_type": "markdown",
   "metadata": {},
   "source": [
    "### map 함수"
   ]
  },
  {
   "cell_type": "code",
   "execution_count": 17,
   "metadata": {},
   "outputs": [
    {
     "name": "stdout",
     "output_type": "stream",
     "text": [
      "result1 : [2, 3, 4, 5, 6]\n",
      "result2 : [2, 3, 4, 5, 6]\n"
     ]
    }
   ],
   "source": [
    "# map(function, iterable)\n",
    "\n",
    "myList = [1, 2, 3, 4, 5]\n",
    "\n",
    "result1 = []\n",
    "for val in myList:\n",
    "    result1.append(val + 1)\n",
    "\n",
    "print(f'result1 : {result1}')\n",
    "\n",
    "\n",
    "# map 함수 이용\n",
    "def add_one(n):\n",
    "    return n + 1\n",
    "\n",
    "\n",
    "result2 = list(map(add_one, myList))  # map반환을 list 로 변환\n",
    "print(f'result2 : {result2}')"
   ]
  },
  {
   "cell_type": "markdown",
   "metadata": {},
   "source": [
    "### 입력"
   ]
  },
  {
   "cell_type": "code",
   "execution_count": 1,
   "metadata": {},
   "outputs": [],
   "source": [
    "# 1개 입력\n",
    "n = int(input())\n",
    "\n",
    "# 공백으로 구분하여 리스트로 입력 받기\n",
    "data = list(map(int, input().split()))\n",
    "\n",
    "# 각각 값으로 입력받기\n",
    "n,m,k = map(int, input().split())"
   ]
  },
  {
   "cell_type": "code",
   "execution_count": 1,
   "metadata": {},
   "outputs": [],
   "source": [
    "# 더 빠른 입력방법. input() 함수는 동작 속도가 느리다\n",
    "# 엔터가 줄 바꿈으로 인식되기 때문에 rstrip 필수\n",
    "import sys\n",
    "sys.stdin.readline().rstrip()\n",
    "data=sys.stdin.readline().rstrip().split()"
   ]
  },
  {
   "cell_type": "markdown",
   "metadata": {},
   "source": [
    "### 순열, 조합"
   ]
  },
  {
   "cell_type": "code",
   "execution_count": 6,
   "metadata": {},
   "outputs": [
    {
     "name": "stdout",
     "output_type": "stream",
     "text": [
      "[('A', 'B'), ('A', 'C'), ('B', 'A'), ('B', 'C'), ('C', 'A'), ('C', 'B')]\n",
      "[('A', 'B'), ('A', 'C'), ('B', 'C')]\n",
      "[('A', 'A'), ('A', 'B'), ('A', 'C'), ('B', 'A'), ('B', 'B'), ('B', 'C'), ('C', 'A'), ('C', 'B'), ('C', 'C')]\n",
      "[('A', 'A'), ('A', 'B'), ('A', 'C'), ('B', 'B'), ('B', 'C'), ('C', 'C')]\n"
     ]
    }
   ],
   "source": [
    "from itertools import permutations\n",
    "from itertools import combinations\n",
    "from itertools import product\n",
    "from itertools import combinations_with_replacement\n",
    "\n",
    "# 수열\n",
    "data = ['A','B','C']\n",
    "result = list(permutations(data,2))\n",
    "print(result)\n",
    "\n",
    "# 조합\n",
    "data = ['A','B','C']\n",
    "result = list(combinations(data,2))\n",
    "print(result)\n",
    "\n",
    "# 중복 가능 수열\n",
    "data = ['A','B','C']\n",
    "result = list(product(data,repeat=2))\n",
    "print(result)\n",
    "\n",
    "# 중복 가능 조합\n",
    "data = ['A','B','C']\n",
    "result = list(combinations_with_replacement(data,2))\n",
    "print(result)"
   ]
  }
 ],
 "metadata": {
  "kernelspec": {
   "display_name": "torch",
   "language": "python",
   "name": "python3"
  },
  "language_info": {
   "codemirror_mode": {
    "name": "ipython",
    "version": 3
   },
   "file_extension": ".py",
   "mimetype": "text/x-python",
   "name": "python",
   "nbconvert_exporter": "python",
   "pygments_lexer": "ipython3",
   "version": "3.8.18"
  }
 },
 "nbformat": 4,
 "nbformat_minor": 2
}
